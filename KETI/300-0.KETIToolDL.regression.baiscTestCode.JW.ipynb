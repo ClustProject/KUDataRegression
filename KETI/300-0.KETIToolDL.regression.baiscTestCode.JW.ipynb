{
 "cells": [
  {
   "cell_type": "code",
   "execution_count": 1,
   "id": "b923eadd",
   "metadata": {},
   "outputs": [
    {
     "name": "stdout",
     "output_type": "stream",
     "text": [
      "cpu is available.\n"
     ]
    }
   ],
   "source": [
    "import sys\n",
    "\n",
    "sys.path.append(\"../\")\n",
    "sys.path.append(\"../../\")\n",
    "sys.path.append(\"../../..\")\n",
    "sys.path.append(\"../../../../\")\n",
    "import torch\n",
    "import pickle\n",
    "import random\n",
    "import pandas as pd\n",
    "import numpy as np\n",
    "\n",
    "#import main_regression as mr\n",
    "device = \"cuda\" if torch.cuda.is_available() else \"cpu\"\n",
    "print(f\"{device}\" \" is available.\")"
   ]
  },
  {
   "cell_type": "markdown",
   "id": "16027317",
   "metadata": {},
   "source": [
    "# 1. Basic Setting"
   ]
  },
  {
   "cell_type": "code",
   "execution_count": 2,
   "id": "e24898d8",
   "metadata": {},
   "outputs": [],
   "source": [
    "num_epochs = 1 # 학습 epoch 횟수, int(default: 1000, 범위: 1 이상)\n",
    "batch_size = 16  # batch 크기, int(default: 16, 범위: 1 이상, 컴퓨터 사양에 적합하게 설정)"
   ]
  },
  {
   "cell_type": "markdown",
   "id": "f1c81bc1",
   "metadata": {},
   "source": [
    "# 2. Without Representation\n",
    "## 2-1. Data preparation "
   ]
  },
  {
   "cell_type": "code",
   "execution_count": 3,
   "id": "af862bb5",
   "metadata": {},
   "outputs": [
    {
     "name": "stdout",
     "output_type": "stream",
     "text": [
      "(95, 24, 144)\n",
      "(95,)\n",
      "(42, 24, 144)\n",
      "(42,)\n",
      "inputSize(train_x.shape[1]): 24\n",
      "sequenceLenth (train_x.shape[2]): 144\n"
     ]
    }
   ],
   "source": [
    "import setting\n",
    "\n",
    "model_list = [\"LSTM_rg\",\"GRU_rg\", \"CNN_1D_rg\",\"LSTM_FCNs_rg\"] #FC_cf는 빼야함\n",
    "model_name = model_list[0]\n",
    "datafolderAddress = '../data/'\n",
    "train_x, train_y,test_x, test_y = setting.getTrainDataFromFilesForRegression(datafolderAddress, model_name)"
   ]
  },
  {
   "cell_type": "markdown",
   "id": "e32161bd",
   "metadata": {},
   "source": [
    "## 2-2. parameter Preparation"
   ]
  },
  {
   "cell_type": "code",
   "execution_count": 4,
   "id": "7d6a7fe4",
   "metadata": {},
   "outputs": [],
   "source": [
    "# Option Setting\n",
    "config = setting.modelTestconfig[model_name]\n",
    "config['input_size'] = train_x.shape[1]\n",
    "config['seq_len']  = train_x.shape[2] # seq_length\n",
    "config['device']  = device\n",
    "\n",
    "from KETIToolDL import modelInfo\n",
    "trainDataPathList = [\"CLUST\", \"Electronics\",\"FileTest\"]\n",
    "MI = modelInfo.ModelFileManager()\n",
    "modelFilePath = MI.getModelFilePath(trainDataPathList, model_name)"
   ]
  },
  {
   "cell_type": "markdown",
   "id": "03a4bb23",
   "metadata": {},
   "source": [
    "## 2-3 Training"
   ]
  },
  {
   "cell_type": "code",
   "execution_count": 6,
   "id": "679ad3aa",
   "metadata": {
    "scrolled": false
   },
   "outputs": [
    {
     "name": "stdout",
     "output_type": "stream",
     "text": [
      "Start training model\n",
      "\n",
      "Epoch 1/1\n",
      "train Loss: 223.7675\n",
      "val Loss: 190.3354\n",
      "\n",
      "Training complete in 0m 1s\n",
      "Best val MSE: 190.335383\n"
     ]
    }
   ],
   "source": [
    "from KETIToolDL.TrainTool.Regression.trainer import RegressionML as RML\n",
    "rml = RML(model_name, config)\n",
    "model = rml.getModel()\n",
    "rml.processInputData(train_x, train_y, batch_size)\n",
    "best_model = rml.trainModel(model, modelFilePath, num_epochs)"
   ]
  },
  {
   "cell_type": "markdown",
   "id": "045e1088",
   "metadata": {},
   "source": [
    "## 2-4 Testing"
   ]
  },
  {
   "cell_type": "code",
   "execution_count": 8,
   "id": "6f651ea0",
   "metadata": {},
   "outputs": [
    {
     "name": "stdout",
     "output_type": "stream",
     "text": [
      "\n",
      "Start testing data\n",
      "\n",
      "** Performance of test dataset ==> MSE = 200.40213012695312, MAE = 13.732988357543945\n",
      "** Dimension of result for test dataset = (42,)\n"
     ]
    }
   ],
   "source": [
    "from KETIToolDL.TrainTool.Regression.trainer import RegressionML as RML\n",
    "rml = RML(model_name, config)\n",
    "model = rml.getModel()\n",
    "\n",
    "from KETIToolDL.PredictionTool.Regression.inference import RegressionModelTestInference as RTI\n",
    "ri = RTI(test_x, test_y, batch_size, device)\n",
    "pred, mse, mae = ri.get_result(model, modelFilePath)"
   ]
  },
  {
   "cell_type": "code",
   "execution_count": 9,
   "id": "46a792da",
   "metadata": {},
   "outputs": [
    {
     "data": {
      "text/plain": [
       "<AxesSubplot:>"
      ]
     },
     "execution_count": 9,
     "metadata": {},
     "output_type": "execute_result"
    },
    {
     "data": {
      "image/png": "[encoded data removed]",
      "text/plain": [
       "<Figure size 432x288 with 1 Axes>"
      ]
     },
     "metadata": {
      "needs_background": "light"
     },
     "output_type": "display_data"
    }
   ],
   "source": [
    "df_result = pd.DataFrame(data={\"value\": test_y, \"prediction\": pred})\n",
    "df_result.plot()"
   ]
  },
  {
   "cell_type": "markdown",
   "id": "6c207c4f",
   "metadata": {},
   "source": [
    "## 2-5 Inference"
   ]
  },
  {
   "cell_type": "code",
   "execution_count": 11,
   "id": "981bf314",
   "metadata": {},
   "outputs": [
    {
     "name": "stdout",
     "output_type": "stream",
     "text": [
      "\n",
      "Start testing data\n",
      "\n",
      "[0.09284264]\n"
     ]
    }
   ],
   "source": [
    "#Only One Inference Input\n",
    "infy = [[0]]\n",
    "infx = [test_x[0]]\n",
    "\n",
    "from KETIToolDL.TrainTool.Regression.trainer import RegressionML as RML\n",
    "rml = RML(model_name, config)\n",
    "model = rml.getModel()\n",
    "\n",
    "from KETIToolDL.PredictionTool.Regression.inference import RegressionModelTestInference as RTI\n",
    "ri = RTI(infx, infy, 1, device)\n",
    "pred= ri.get_inferenceResult(model, modelFilePath)\n",
    "print(pred)"
   ]
  },
  {
   "cell_type": "markdown",
   "id": "221e5dbe",
   "metadata": {},
   "source": [
    "--------------------------------------------------"
   ]
  },
  {
   "cell_type": "markdown",
   "id": "f4c96ce5",
   "metadata": {},
   "source": [
    "# 3. With Representation\n",
    "## 3-1. Data Preparation"
   ]
  },
  {
   "cell_type": "code",
   "execution_count": 14,
   "id": "f741fab6",
   "metadata": {},
   "outputs": [],
   "source": [
    "model_list = [\"FC_rg\"] #FC_cf는 빼야함\n",
    "model_name = model_list[0]\n",
    "datafolderAddress = '../data/'\n",
    "train_x, train_y,test_x, test_y = setting.getTrainDataFromFilesForRegression(datafolderAddress, model_name)"
   ]
  },
  {
   "cell_type": "markdown",
   "id": "5aaad269",
   "metadata": {},
   "source": [
    "## 3-2. parameter Preparation"
   ]
  },
  {
   "cell_type": "code",
   "execution_count": 15,
   "id": "0e5b526c",
   "metadata": {},
   "outputs": [],
   "source": [
    "# Case 5. fully-connected layers (w/ data representation)\n",
    "config = setting.modelTestconfig[model_name]\n",
    "config['input_size'] = train_x.shape[1]\n",
    "config['device'] =device\n",
    "\n",
    "from KETIToolDL import modelInfo\n",
    "MI = modelInfo.ModelFileManager()\n",
    "modelFilePath = MI.getModelFilePath(trainDataPathList, model_name)"
   ]
  },
  {
   "cell_type": "markdown",
   "id": "ee2d49b1",
   "metadata": {},
   "source": [
    "## 3-3. Training"
   ]
  },
  {
   "cell_type": "code",
   "execution_count": 17,
   "id": "a686a80f",
   "metadata": {},
   "outputs": [
    {
     "name": "stdout",
     "output_type": "stream",
     "text": [
      "Start training model\n",
      "\n",
      "Epoch 1/1\n",
      "train Loss: 228.5731\n",
      "val Loss: 196.6091\n",
      "\n",
      "Training complete in 0m 0s\n",
      "Best val MSE: 196.609131\n"
     ]
    }
   ],
   "source": [
    "from KETIToolDL.TrainTool.Regression.trainer import RegressionML as RML\n",
    "rml = RML(model_name, config)\n",
    "rml.processInputData(train_x, train_y, batch_size)\n",
    "model = rml.getModel()\n",
    "best_model = rml.trainModel(model, modelFilePath, num_epochs)"
   ]
  },
  {
   "cell_type": "markdown",
   "id": "cf75b81a",
   "metadata": {},
   "source": [
    "## 3-4. Testing"
   ]
  },
  {
   "cell_type": "code",
   "execution_count": 18,
   "id": "7776abf4",
   "metadata": {},
   "outputs": [
    {
     "name": "stdout",
     "output_type": "stream",
     "text": [
      "\n",
      "Start testing data\n",
      "\n",
      "** Performance of test dataset ==> MSE = 206.72744750976562, MAE = 13.957622528076172\n",
      "** Dimension of result for test dataset = (42,)\n"
     ]
    }
   ],
   "source": [
    "from KETIToolDL.PredictionTool.Regression.inference import RegressionModelTestInference as RTI\n",
    "ri = RTI(test_x, test_y, batch_size, device)\n",
    "pred, mse, mae = ri.get_result(model, modelFilePath)"
   ]
  },
  {
   "cell_type": "code",
   "execution_count": 19,
   "id": "27f9d903",
   "metadata": {},
   "outputs": [
    {
     "data": {
      "text/plain": [
       "<AxesSubplot:>"
      ]
     },
     "execution_count": 19,
     "metadata": {},
     "output_type": "execute_result"
    },
    {
     "data": {
      "image/png": "[encoded data removed]",
      "text/plain": [
       "<Figure size 432x288 with 1 Axes>"
      ]
     },
     "metadata": {
      "needs_background": "light"
     },
     "output_type": "display_data"
    }
   ],
   "source": [
    "df_result = pd.DataFrame(data={\"value\": test_y, \"prediction\": pred})\n",
    "df_result.plot()"
   ]
  },
  {
   "cell_type": "markdown",
   "id": "73dd5350",
   "metadata": {},
   "source": [
    "## 3-5. Inference"
   ]
  },
  {
   "cell_type": "code",
   "execution_count": 21,
   "id": "76e9ed8b",
   "metadata": {},
   "outputs": [
    {
     "name": "stdout",
     "output_type": "stream",
     "text": [
      "\n",
      "Start testing data\n",
      "\n"
     ]
    }
   ],
   "source": [
    "#Only One Inference Input\n",
    "\n",
    "infy = [0]\n",
    "infx = test_x[:1]\n",
    "\n",
    "from KETIToolDL.TrainTool.Regression.trainer import RegressionML as RML\n",
    "rml = RML(model_name, config)\n",
    "model = rml.getModel()\n",
    "\n",
    "\n",
    "from KETIToolDL.PredictionTool.Regression.inference import RegressionModelTestInference as RTI\n",
    "ri = RTI(infx, infy, 1, device)\n",
    "pred= ri.get_inferenceResult(model, modelFilePath)"
   ]
  },
  {
   "cell_type": "code",
   "execution_count": null,
   "id": "384cd6a9",
   "metadata": {},
   "outputs": [],
   "source": []
  },
  {
   "cell_type": "code",
   "execution_count": null,
   "id": "eda1ea0e",
   "metadata": {},
   "outputs": [],
   "source": []
  }
 ],
 "metadata": {
  "kernelspec": {
   "display_name": "Python 3 (ipykernel)",
   "language": "python",
   "name": "python3"
  },
  "language_info": {
   "codemirror_mode": {
    "name": "ipython",
    "version": 3
   },
   "file_extension": ".py",
   "mimetype": "text/x-python",
   "name": "python",
   "nbconvert_exporter": "python",
   "pygments_lexer": "ipython3",
   "version": "3.8.13"
  },
  "toc": {
   "base_numbering": 1,
   "nav_menu": {},
   "number_sections": true,
   "sideBar": true,
   "skip_h1_title": false,
   "title_cell": "Table of Contents",
   "title_sidebar": "Contents",
   "toc_cell": false,
   "toc_position": {},
   "toc_section_display": true,
   "toc_window_display": false
  },
  "vscode": {
   "interpreter": {
    "hash": "f1ef7e1f828dbb4e75f421045d2c565197efaf8469a0be4a314c6ea8378b5cb2"
   }
  }
 },
 "nbformat": 4,
 "nbformat_minor": 5
}
