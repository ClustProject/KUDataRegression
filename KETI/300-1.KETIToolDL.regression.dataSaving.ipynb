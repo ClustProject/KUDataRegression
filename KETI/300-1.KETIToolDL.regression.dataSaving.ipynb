{
 "cells": [
  {
   "cell_type": "code",
   "execution_count": 1,
   "id": "b923eadd",
   "metadata": {
    "ExecuteTime": {
     "end_time": "2022-07-28T02:10:44.338578Z",
     "start_time": "2022-07-28T02:10:43.901232Z"
    }
   },
   "outputs": [],
   "source": [
    "import sys, os\n",
    "import pandas as pd\n",
    "import pathSetting as setting\n",
    "sys.path.append(\"../../..\")\n",
    "\n",
    "from KETIToolDL.CLUSTTool.common import p1_integratedDataSaving as p1\n",
    "import pathSetting as setting"
   ]
  },
  {
   "cell_type": "markdown",
   "id": "16027317",
   "metadata": {},
   "source": [
    "# 1. Basic Setting"
   ]
  },
  {
   "cell_type": "code",
   "execution_count": 2,
   "id": "fdcf572e",
   "metadata": {
    "ExecuteTime": {
     "end_time": "2022-07-28T02:10:46.258347Z",
     "start_time": "2022-07-28T02:10:46.250946Z"
    }
   },
   "outputs": [],
   "source": [
    "modeList =['trainX', 'trainy', 'testX', 'testy']\n",
    "mode = modeList[3]\n",
    "# 1-1\n",
    "\n",
    "trainXDataInfo = [['life_indoor_environment', 'humidityTrain_10min'], ['life_indoor_environment', 'temperatureTrain_10min'], \n",
    "            ['weather_outdoor_environment', 'belgiumChieverseAirportTrain_10min']]\n",
    "\n",
    "testXDataInfo = [['life_indoor_environment', 'humidityTest_10min'], ['life_indoor_environment', 'temperatureTest_10min'], \n",
    "            ['weather_outdoor_environment', 'belgiumChieverseAirportTest_10min']]\n",
    "\n",
    "# 1-3 \n",
    "DataSaveMode='CSV' #or influx\n",
    "\n",
    "# 2 \n",
    "# 2-1 (Train)\n",
    "trainStartTime = \"2016-01-11\"\n",
    "trainEndTime = \"2016-04-15\"\n",
    "\n",
    "testStartTime = \"2021-01-01\"\n",
    "testEndTim = \"2021-02-12\"\n",
    "\n",
    "if mode == 'trainX':\n",
    "    startTime = trainStartTime\n",
    "    endTime = trainEndTime\n",
    "    dataInfo = trainXDataInfo\n",
    "    integration_freq_sec = 60 * 10 # 10분\n",
    "elif mode =='testX':\n",
    "    startTime = testStartTime\n",
    "    endTime = testEndTim\n",
    "    dataInfo = testXDataInfo\n",
    "    integration_freq_sec = 60 * 10 # 10분\n",
    "elif mode == 'trainy':\n",
    "    startTime = trainStartTime\n",
    "    endTime = trainEndTime\n",
    "    dataInfo = [['life_indoor_environment', 'applianceEnergyDatasetTrainy_1day']]\n",
    "    integration_freq_sec = 60 * 60*24 # 10분\n",
    "elif mode =='testy':\n",
    "    startTime = testStartTime\n",
    "    endTime = testEndTim\n",
    "    dataInfo = [['life_indoor_environment', 'applianceEnergyDatasetTesty_1day']]\n",
    "    integration_freq_sec = 60 * 60*24\n",
    "    \n",
    "# 2-2\n",
    "#cleanParam =\"Clean\"\n",
    "cleanParam = \"NoClean\"\n",
    "\n",
    "# 2-3\n",
    "processParam = p1.getProcessParam(cleanParam) "
   ]
  },
  {
   "cell_type": "code",
   "execution_count": 3,
   "id": "ff25ed53",
   "metadata": {
    "ExecuteTime": {
     "end_time": "2022-07-28T02:15:05.875368Z",
     "start_time": "2022-07-28T02:15:05.722481Z"
    },
    "scrolled": false
   },
   "outputs": [
    {
     "name": "stdout",
     "output_type": "stream",
     "text": [
      "IntType\n",
      "self.refine_param ::  {'removeDuplication': {'flag': False}, 'staticFrequency': {'flag': False, 'frequency': None}}\n",
      "Refining-----End\n",
      "OutlierProcessing-----End\n",
      "Imputation-----End\n",
      "1\n",
      "CSV\n",
      "/home/keti/CLUST_KETI/Clust/KETIAppTestCode/JWTest/KUDataRegressionJWTest\n"
     ]
    }
   ],
   "source": [
    "# 2-4\n",
    "data = p1.getData(setting.db_client, dataInfo, integration_freq_sec, processParam, startTime, endTime)\n",
    "# 2-5\n",
    "\n",
    "# Save Data\n",
    "from KETIPreDataTransformation.general_transformation.dataScaler import encodeHashStyle\n",
    "dataDescriptionInfo = encodeHashStyle(p1.getListMerge([str(processParam), str(dataInfo), str(integration_freq_sec), cleanParam, DataSaveMode]))\n",
    "timeIntervalInfo = encodeHashStyle(p1.getListMerge([startTime, endTime]))\n",
    "dataName = dataDescriptionInfo+'_'+timeIntervalInfo\n",
    "dataRoot = 'ml_data_integration'\n",
    "\n",
    "p1.saveData(data, DataSaveMode, dataName, dataRoot, setting.db_client)\n",
    "\n",
    "# Save Meta\n",
    "p1.saveMeta(setting.DataMetaPath, dataName, processParam, dataInfo, integration_freq_sec,startTime, endTime, cleanParam, DataSaveMode)"
   ]
  },
  {
   "cell_type": "code",
   "execution_count": null,
   "id": "31111695",
   "metadata": {},
   "outputs": [],
   "source": []
  },
  {
   "cell_type": "code",
   "execution_count": null,
   "id": "99e068be",
   "metadata": {},
   "outputs": [],
   "source": []
  }
 ],
 "metadata": {
  "hide_input": false,
  "kernelspec": {
   "display_name": "Python 3 (ipykernel)",
   "language": "python",
   "name": "python3"
  },
  "language_info": {
   "codemirror_mode": {
    "name": "ipython",
    "version": 3
   },
   "file_extension": ".py",
   "mimetype": "text/x-python",
   "name": "python",
   "nbconvert_exporter": "python",
   "pygments_lexer": "ipython3",
   "version": "3.8.13"
  },
  "toc": {
   "base_numbering": 1,
   "nav_menu": {},
   "number_sections": true,
   "sideBar": true,
   "skip_h1_title": false,
   "title_cell": "Table of Contents",
   "title_sidebar": "Contents",
   "toc_cell": false,
   "toc_position": {},
   "toc_section_display": true,
   "toc_window_display": false
  },
  "vscode": {
   "interpreter": {
    "hash": "f1ef7e1f828dbb4e75f421045d2c565197efaf8469a0be4a314c6ea8378b5cb2"
   }
  }
 },
 "nbformat": 4,
 "nbformat_minor": 5
}
